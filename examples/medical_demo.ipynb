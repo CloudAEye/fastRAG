{
 "cells": [
  {
   "cell_type": "markdown",
   "id": "c2bd84da",
   "metadata": {},
   "source": [
    "# Medical Demo"
   ]
  },
  {
   "cell_type": "markdown",
   "id": "49c1e20f",
   "metadata": {},
   "source": [
    "In this demo, we will create a system that simulates a doctor, answering medical questions from patients, using a large medical knowledge base.\n",
    "\n",
    "First, lets download a dataset of medical information. For our purposes, we use the [ChatDoctor Instruction Dataset](https://huggingface.co/datasets/LinhDuong/chatdoctor-200k)."
   ]
  },
  {
   "cell_type": "code",
   "execution_count": 3,
   "id": "a26c876f",
   "metadata": {},
   "outputs": [],
   "source": [
    "from datasets import load_dataset"
   ]
  },
  {
   "cell_type": "code",
   "execution_count": 4,
   "id": "165b80e0",
   "metadata": {},
   "outputs": [],
   "source": [
    "data_url = \"https://huggingface.co/datasets/LinhDuong/chatdoctor-200k/resolve/main/chatdoctor200k.json\""
   ]
  },
  {
   "cell_type": "code",
   "execution_count": 5,
   "id": "b39f2551",
   "metadata": {},
   "outputs": [],
   "source": [
    "data_save_path = \"medical_data\""
   ]
  },
  {
   "cell_type": "code",
   "execution_count": 6,
   "id": "9c6d3973",
   "metadata": {},
   "outputs": [],
   "source": [
    "import os\n",
    "os.makedirs(data_save_path, exist_ok=True)"
   ]
  },
  {
   "cell_type": "code",
   "execution_count": 9,
   "id": "e6df01e2",
   "metadata": {},
   "outputs": [
    {
     "name": "stdout",
     "output_type": "stream",
     "text": [
      "Will not apply HSTS. The HSTS database must be a regular and non-world-writable file.\n",
      "ERROR: could not open HSTS store at '/store/.wget-hsts'. HSTS will be disabled.\n",
      "--2023-07-16 12:50:04--  https://huggingface.co/datasets/LinhDuong/chatdoctor-200k/resolve/main/chatdoctor200k.json\n",
      "Resolving proxy-chain.intel.com (proxy-chain.intel.com)... 10.24.221.149, 10.24.221.149\n",
      "Connecting to proxy-chain.intel.com (proxy-chain.intel.com)|10.24.221.149|:912... connected.\n",
      "Proxy request sent, awaiting response... 302 Found\n",
      "Location: https://cdn-lfs.huggingface.co/repos/95/6f/956f15a7b1e421e62ea685edd9e63f4f6a1a04b04f84b2c1640d2316dec510d2/818e03761c948d74feb19f781edf28c4637dfe45266e0dc921d1a2dca6f956de?response-content-disposition=attachment%3B+filename*%3DUTF-8%27%27chatdoctor200k.json%3B+filename%3D%22chatdoctor200k.json%22%3B&response-content-type=application%2Fjson&Expires=1689760204&Policy=eyJTdGF0ZW1lbnQiOlt7IkNvbmRpdGlvbiI6eyJEYXRlTGVzc1RoYW4iOnsiQVdTOkVwb2NoVGltZSI6MTY4OTc2MDIwNH19LCJSZXNvdXJjZSI6Imh0dHBzOi8vY2RuLWxmcy5odWdnaW5nZmFjZS5jby9yZXBvcy85NS82Zi85NTZmMTVhN2IxZTQyMWU2MmVhNjg1ZWRkOWU2M2Y0ZjZhMWEwNGIwNGY4NGIyYzE2NDBkMjMxNmRlYzUxMGQyLzgxOGUwMzc2MWM5NDhkNzRmZWIxOWY3ODFlZGYyOGM0NjM3ZGZlNDUyNjZlMGRjOTIxZDFhMmRjYTZmOTU2ZGU%7EcmVzcG9uc2UtY29udGVudC1kaXNwb3NpdGlvbj0qJnJlc3BvbnNlLWNvbnRlbnQtdHlwZT0qIn1dfQ__&Signature=0qBr6iHqApAIclyYB45JDLMHLScaDt9oglDCoufl70NEGdcOuPSj04bXExFXAL94soxzCZ-8Wqwev15TRyxiWUYDrKLOwULV1akzBIGgiXYyS2r7dPJoLqcYiQlnJ2mRbGQVUErOTqGDOPfBvWd-swbqgpP0uxV%7ExZWrZzwuA0FdNrXGIsl-xstA55rBhV%7EDox6ZJypnBG6jN88L5GyO1RFp5WfT32WY7T22T6Yq3S8OXSGOIZAnls-RUlsLlH2PgNViRSWX1l9AUBx6FoV8yQl%7EkOVO6%7ELUiwZgQrHjiewXydOlzeOhAB6oJSkKpYsCFZkJACqvCl0hbfFjoxlw5g__&Key-Pair-Id=KVTP0A1DKRTAX [following]\n",
      "--2023-07-16 12:50:05--  https://cdn-lfs.huggingface.co/repos/95/6f/956f15a7b1e421e62ea685edd9e63f4f6a1a04b04f84b2c1640d2316dec510d2/818e03761c948d74feb19f781edf28c4637dfe45266e0dc921d1a2dca6f956de?response-content-disposition=attachment%3B+filename*%3DUTF-8%27%27chatdoctor200k.json%3B+filename%3D%22chatdoctor200k.json%22%3B&response-content-type=application%2Fjson&Expires=1689760204&Policy=eyJTdGF0ZW1lbnQiOlt7IkNvbmRpdGlvbiI6eyJEYXRlTGVzc1RoYW4iOnsiQVdTOkVwb2NoVGltZSI6MTY4OTc2MDIwNH19LCJSZXNvdXJjZSI6Imh0dHBzOi8vY2RuLWxmcy5odWdnaW5nZmFjZS5jby9yZXBvcy85NS82Zi85NTZmMTVhN2IxZTQyMWU2MmVhNjg1ZWRkOWU2M2Y0ZjZhMWEwNGIwNGY4NGIyYzE2NDBkMjMxNmRlYzUxMGQyLzgxOGUwMzc2MWM5NDhkNzRmZWIxOWY3ODFlZGYyOGM0NjM3ZGZlNDUyNjZlMGRjOTIxZDFhMmRjYTZmOTU2ZGU%7EcmVzcG9uc2UtY29udGVudC1kaXNwb3NpdGlvbj0qJnJlc3BvbnNlLWNvbnRlbnQtdHlwZT0qIn1dfQ__&Signature=0qBr6iHqApAIclyYB45JDLMHLScaDt9oglDCoufl70NEGdcOuPSj04bXExFXAL94soxzCZ-8Wqwev15TRyxiWUYDrKLOwULV1akzBIGgiXYyS2r7dPJoLqcYiQlnJ2mRbGQVUErOTqGDOPfBvWd-swbqgpP0uxV%7ExZWrZzwuA0FdNrXGIsl-xstA55rBhV%7EDox6ZJypnBG6jN88L5GyO1RFp5WfT32WY7T22T6Yq3S8OXSGOIZAnls-RUlsLlH2PgNViRSWX1l9AUBx6FoV8yQl%7EkOVO6%7ELUiwZgQrHjiewXydOlzeOhAB6oJSkKpYsCFZkJACqvCl0hbfFjoxlw5g__&Key-Pair-Id=KVTP0A1DKRTAX\n",
      "Connecting to proxy-chain.intel.com (proxy-chain.intel.com)|10.24.221.149|:912... connected.\n",
      "Proxy request sent, awaiting response... 200 OK\n",
      "Length: 226441478 (216M) [application/json]\n",
      "Saving to: ‘chatdoctor200k.json’\n",
      "\n",
      "chatdoctor200k.json 100%[===================>] 215.95M  55.1MB/s    in 4.3s    \n",
      "\n",
      "2023-07-16 12:50:10 (50.6 MB/s) - ‘chatdoctor200k.json’ saved [226441478/226441478]\n",
      "\n"
     ]
    }
   ],
   "source": [
    "!cd {data_save_path} && wget {data_url}"
   ]
  },
  {
   "cell_type": "code",
   "execution_count": 7,
   "id": "94385cd8",
   "metadata": {},
   "outputs": [],
   "source": [
    "import json"
   ]
  },
  {
   "cell_type": "code",
   "execution_count": 8,
   "id": "9e01a522",
   "metadata": {},
   "outputs": [],
   "source": [
    "with open(f\"{data_save_path}/chatdoctor200k.json\", \"r\") as f:\n",
    "    data = json.load(f)"
   ]
  },
  {
   "cell_type": "code",
   "execution_count": 9,
   "id": "884a0c09",
   "metadata": {},
   "outputs": [
    {
     "data": {
      "text/plain": [
       "207408"
      ]
     },
     "execution_count": 9,
     "metadata": {},
     "output_type": "execute_result"
    }
   ],
   "source": [
    "len(data)"
   ]
  },
  {
   "cell_type": "markdown",
   "id": "29942b48",
   "metadata": {},
   "source": [
    "lets see an example from the dataset:"
   ]
  },
  {
   "cell_type": "code",
   "execution_count": 10,
   "id": "0c3dc753",
   "metadata": {},
   "outputs": [
    {
     "name": "stdout",
     "output_type": "stream",
     "text": [
      "{\n",
      "    \"instruction\": \"If you are a doctor, please answer the medical questions based on the patient's description.\",\n",
      "    \"input\": \"I woke up this morning feeling the whole room is spinning when i was sitting down. I went to the bathroom walking unsteadily, as i tried to focus i feel nauseous. I try to vomit but it wont come out.. After taking panadol and sleep for few hours, i still feel the same.. By the way, if i lay down or sit down, my head do not spin, only when i want to move around then i feel the whole world is spinning.. And it is normal stomach discomfort at the same time? Earlier after i relieved myself, the spinning lessen so i am not sure whether its connected or coincidences.. Thank you doc!\",\n",
      "    \"output\": \"Hi, Thank you for posting your query. The most likely cause for your symptoms is benign paroxysmal positional vertigo (BPPV), a type of peripheral vertigo. In this condition, the most common symptom is dizziness or giddiness, which is made worse with movements. Accompanying nausea and vomiting are common. The condition is due to problem in the ear, and improves in a few days on own. Betahistine tablets would help relieve your symptoms. Doing vestibular rehabilitation or adaptation exercises would prevent the recurrence of these symptoms. An ENT evaluation would also help. I hope it helps. Best wishes, Chat Doctor. \"\n",
      "}\n"
     ]
    }
   ],
   "source": [
    "print(json.dumps(data[1], indent=4))"
   ]
  },
  {
   "cell_type": "markdown",
   "id": "e64718a6",
   "metadata": {},
   "source": [
    "For this demo, lets take a subset of the documents, say a 1000 documents."
   ]
  },
  {
   "cell_type": "code",
   "execution_count": 11,
   "id": "04b28556",
   "metadata": {},
   "outputs": [],
   "source": [
    "data = data[:1000]"
   ]
  },
  {
   "cell_type": "code",
   "execution_count": 12,
   "id": "a5c244e9",
   "metadata": {},
   "outputs": [],
   "source": [
    "from haystack import Document"
   ]
  },
  {
   "cell_type": "markdown",
   "id": "5d755eb0",
   "metadata": {},
   "source": [
    "We can transform the dataset into a document collection, where each document has the patient's question and the doctor's answer as the content."
   ]
  },
  {
   "cell_type": "code",
   "execution_count": 13,
   "id": "75360430",
   "metadata": {},
   "outputs": [],
   "source": [
    "from tqdm import tqdm"
   ]
  },
  {
   "cell_type": "code",
   "execution_count": 14,
   "id": "2bf8ec91",
   "metadata": {},
   "outputs": [
    {
     "name": "stderr",
     "output_type": "stream",
     "text": [
      "100%|██████████| 1000/1000 [00:00<00:00, 5963.06it/s]\n"
     ]
    }
   ],
   "source": [
    "def get_document_text(item):\n",
    "    return f\"A patient asked: {item['input']} A doctor answered: {item['output']}\"\n",
    "\n",
    "document_collection = [Document(content=get_document_text(item)) for item in tqdm(data)]"
   ]
  },
  {
   "cell_type": "markdown",
   "id": "94d4d597",
   "metadata": {},
   "source": [
    "Now, we can store our documents in an index. For this example, we will use a simple InMemoryDocumentStore. "
   ]
  },
  {
   "cell_type": "code",
   "execution_count": 20,
   "id": "a9d177be",
   "metadata": {},
   "outputs": [],
   "source": [
    "from haystack.document_stores import InMemoryDocumentStore\n",
    "\n",
    "data_store = InMemoryDocumentStore(use_bm25=True)"
   ]
  },
  {
   "cell_type": "markdown",
   "id": "ca91ac40",
   "metadata": {},
   "source": [
    "Next, we store the documents in the index"
   ]
  },
  {
   "cell_type": "code",
   "execution_count": 21,
   "id": "a41af2d3",
   "metadata": {},
   "outputs": [
    {
     "data": {
      "application/vnd.jupyter.widget-view+json": {
       "model_id": "6590f0d83a984e53aa500c6b3f79ebef",
       "version_major": 2,
       "version_minor": 0
      },
      "text/plain": [
       "Updating BM25 representation...:   0%|          | 0/1000 [00:00<?, ? docs/s]"
      ]
     },
     "metadata": {},
     "output_type": "display_data"
    }
   ],
   "source": [
    "data_store.write_documents(document_collection)"
   ]
  },
  {
   "cell_type": "code",
   "execution_count": 22,
   "id": "e6b53213",
   "metadata": {},
   "outputs": [
    {
     "data": {
      "text/plain": [
       "1000"
      ]
     },
     "execution_count": 22,
     "metadata": {},
     "output_type": "execute_result"
    }
   ],
   "source": [
    "data_store.get_document_count()"
   ]
  },
  {
   "cell_type": "markdown",
   "id": "bc174ee2",
   "metadata": {},
   "source": [
    "On top of the data store, we define a retriver, to fetch the documents, using the BM25 algorithm."
   ]
  },
  {
   "cell_type": "code",
   "execution_count": 23,
   "id": "8f032af4",
   "metadata": {},
   "outputs": [],
   "source": [
    "from haystack.nodes.retriever import BM25Retriever\n",
    "\n",
    "retriever = BM25Retriever(document_store = data_store)"
   ]
  },
  {
   "cell_type": "markdown",
   "id": "7e0d4238",
   "metadata": {},
   "source": [
    "Now that we have stored the documents, we can search over them. \n",
    "Lets take the retrieval stage further, and add a Deep Cross Encoder, to better rerank the documents"
   ]
  },
  {
   "cell_type": "code",
   "execution_count": 25,
   "id": "b8dc68f9",
   "metadata": {},
   "outputs": [
    {
     "name": "stderr",
     "output_type": "stream",
     "text": [
      "/home/mberchan/.local/lib/python3.8/site-packages/torch/_utils.py:776: UserWarning: TypedStorage is deprecated. It will be removed in the future and UntypedStorage will be the only storage class. This should only matter to you if you are using storages directly.  To access UntypedStorage directly, use tensor.untyped_storage() instead of tensor.storage()\n",
      "  return self.fget.__get__(instance, owner)()\n"
     ]
    }
   ],
   "source": [
    "from haystack.nodes.ranker import SentenceTransformersRanker\n",
    "\n",
    "reranker = SentenceTransformersRanker(\n",
    "    batch_size= 32,\n",
    "    model_name_or_path= \"cross-encoder/ms-marco-MiniLM-L-6-v2\",\n",
    "    use_gpu= False\n",
    ")"
   ]
  },
  {
   "cell_type": "markdown",
   "id": "3677b65a",
   "metadata": {},
   "source": [
    "After the reranker, we will have the final set of relevant documents for our query. \n",
    "Lets use a Large Language Model to answer the question, using the given documents.\n",
    "\n",
    "First, we create the prompt model, that will answer our question. In our case, we use the [Flan Alpaca](https://huggingface.co/declare-lab/flan-sharegpt-xl) model."
   ]
  },
  {
   "cell_type": "code",
   "execution_count": 26,
   "id": "40ead146",
   "metadata": {},
   "outputs": [
    {
     "data": {
      "application/vnd.jupyter.widget-view+json": {
       "model_id": "44be5bdd25bf42ddbe62a30b8cd1a5c9",
       "version_major": 2,
       "version_minor": 0
      },
      "text/plain": [
       "Loading checkpoint shards:   0%|          | 0/2 [00:00<?, ?it/s]"
      ]
     },
     "metadata": {},
     "output_type": "display_data"
    }
   ],
   "source": [
    "from haystack.nodes import PromptModel\n",
    "\n",
    "prompt_model = PromptModel(\n",
    "    model_name_or_path= \"declare-lab/flan-sharegpt-xl\",\n",
    "    use_gpu= True,\n",
    "    model_kwargs= dict(\n",
    "      model_max_length= 100000,\n",
    "      load_in_8bit=True,\n",
    "      device_map= {\"\": 6}  \n",
    "    )\n",
    ")"
   ]
  },
  {
   "cell_type": "markdown",
   "id": "18fccba5",
   "metadata": {},
   "source": [
    "Now, lets define a prompt template for the model to use. The keywords \"query\" and \"join(documents)\" are placeholders for\n",
    "the question and retrieved documents respectively."
   ]
  },
  {
   "cell_type": "code",
   "execution_count": 27,
   "id": "0146a4cc",
   "metadata": {},
   "outputs": [],
   "source": [
    "prompt_template = \"\"\"Below is an instruction that describes a task, paired with an input that provides further context. Write a response that appropriately completes the request.\n",
    "\n",
    "### Instruction:\n",
    "You are a medical doctor, giving medical advice to patients. \n",
    "Give a diagnosis to the patient that asked the Question below.\n",
    "Use only the information provided in the Input to respond.\n",
    "Do not use any prior knowledge to respond.\n",
    "\n",
    "### Input:\n",
    "{join(documents)}\n",
    "\n",
    "Question: {query}\n",
    "\n",
    "### Response:\"\"\""
   ]
  },
  {
   "cell_type": "markdown",
   "id": "dd62503e",
   "metadata": {},
   "source": [
    "Here, we create the prompt_template object:"
   ]
  },
  {
   "cell_type": "code",
   "execution_count": 28,
   "id": "ddf21750",
   "metadata": {},
   "outputs": [],
   "source": [
    "from haystack.nodes.prompt.prompt_template import PromptTemplate\n",
    "from haystack.nodes import AnswerParser\n",
    "\n",
    "prompt_template_object = PromptTemplate(\n",
    "    name=\"lfqa\",\n",
    "    prompt_text=prompt_template,\n",
    "    output_parser= AnswerParser()\n",
    ")\n"
   ]
  },
  {
   "cell_type": "markdown",
   "id": "cfecc819",
   "metadata": {},
   "source": [
    "To use the prompt model, we define a prompt node, that combines the prompt model with the chosen template:"
   ]
  },
  {
   "cell_type": "code",
   "execution_count": 29,
   "id": "4f46525f",
   "metadata": {},
   "outputs": [],
   "source": [
    "from haystack.nodes.prompt import PromptNode\n",
    "\n",
    "prompter = PromptNode(\n",
    "    model_name_or_path= prompt_model,\n",
    "    default_prompt_template=prompt_template_object\n",
    ")\n"
   ]
  },
  {
   "cell_type": "markdown",
   "id": "2d6fdb0f",
   "metadata": {},
   "source": [
    "Now that we have all our components, lets combine them together to a single end-to-end pipeline:"
   ]
  },
  {
   "cell_type": "code",
   "execution_count": 30,
   "id": "eeee7a6e",
   "metadata": {},
   "outputs": [],
   "source": [
    "from haystack import Pipeline\n",
    "\n",
    "pipeline = Pipeline()\n",
    "\n",
    "pipeline.add_node(component=retriever, name= 'Retriever',inputs= [\"Query\"])\n",
    "\n",
    "pipeline.add_node(component=reranker, name= 'Reranker',inputs= [\"Retriever\"])\n",
    "\n",
    "pipeline.add_node(component=prompter, name= 'Prompter',inputs= [\"Reranker\"])"
   ]
  },
  {
   "cell_type": "markdown",
   "id": "8a5a5bbe",
   "metadata": {},
   "source": [
    "We can now use the pipeline to answer our question:"
   ]
  },
  {
   "cell_type": "code",
   "execution_count": 31,
   "id": "654f27f9",
   "metadata": {},
   "outputs": [
    {
     "name": "stderr",
     "output_type": "stream",
     "text": [
      "Both `max_new_tokens` (=1000) and `max_length`(=100) seem to have been set. `max_new_tokens` will take precedence. Please refer to the documentation for more information. (https://huggingface.co/docs/transformers/main/en/main_classes/text_generation)\n"
     ]
    }
   ],
   "source": [
    "result = pipeline.run(\n",
    "    query=\"I feel the whole room is spinning, what is going on?\",\n",
    "    params = {\n",
    "        \"Retriever\": {\n",
    "            \"top_k\": 50\n",
    "        },\n",
    "        \"Reranker\": {\n",
    "            \"top_k\": 3\n",
    "        },\n",
    "        \"generation_kwargs\": {\n",
    "            \"max_new_tokens\": 1000,\n",
    "        },\n",
    "    },\n",
    ")"
   ]
  },
  {
   "cell_type": "markdown",
   "id": "e6ca9f87",
   "metadata": {},
   "source": [
    "Here is the answer:"
   ]
  },
  {
   "cell_type": "code",
   "execution_count": 32,
   "id": "f08b4b93",
   "metadata": {},
   "outputs": [
    {
     "name": "stdout",
     "output_type": "stream",
     "text": [
      "The patient's symptoms of feeling the whole room spinning and experiencing nausea and vomiting are consistent with benign paroxysmal positional vertigo (BPPV). BPPV is a type of peripheral vertigo, which is caused by a problem in the inner ear. The symptoms are usually worse with movements and can be accompanied by nausea and vomiting. Betahistine tablets would help relieve your symptoms. Doing vestibular rehabilitation or adaptation exercises would prevent the recurrence of these symptoms. An ENT evaluation would also help. I hope it helps. Best wishes, Chat Doctor.\n"
     ]
    }
   ],
   "source": [
    "print(result[\"answers\"][0].answer)"
   ]
  },
  {
   "cell_type": "markdown",
   "id": "b6eacd09",
   "metadata": {},
   "source": [
    "And these a the supporting documents:"
   ]
  },
  {
   "cell_type": "code",
   "execution_count": 33,
   "id": "150423e1",
   "metadata": {},
   "outputs": [
    {
     "name": "stdout",
     "output_type": "stream",
     "text": [
      "A patient asked: I woke up this morning feeling the whole room is spinning when i was sitting down. I went to the bathroom walking unsteadily, as i tried to focus i feel nauseous. I try to vomit but it wont come out.. After taking panadol and sleep for few hours, i still feel the same.. By the way, if i lay down or sit down, my head do not spin, only when i want to move around then i feel the whole world is spinning.. And it is normal stomach discomfort at the same time? Earlier after i relieved myself, the spinning lessen so i am not sure whether its connected or coincidences.. Thank you doc! A doctor answered: Hi, Thank you for posting your query. The most likely cause for your symptoms is benign paroxysmal positional vertigo (BPPV), a type of peripheral vertigo. In this condition, the most common symptom is dizziness or giddiness, which is made worse with movements. Accompanying nausea and vomiting are common. The condition is due to problem in the ear, and improves in a few days on own. Betahistine tablets would help relieve your symptoms. Doing vestibular rehabilitation or adaptation exercises would prevent the recurrence of these symptoms. An ENT evaluation would also help. I hope it helps. Best wishes, Chat Doctor. \n",
      "\n",
      "\n",
      "A patient asked: I normally get panic attacks, but decided to learn to control them without the use of medication . Besides that, I Always feel dizzy, like im floating.. the room will spin out of no where like I got up to fast.. it happens everywhere, Especially if im in crowded or loud places. I hardly drink water. im 5 7 130lbs male. Sometimes, I feel like im so full and its hard to breath , as if my lungs are full of bricks, and I have only a tiny space for air. I get tired really easy.. but I work from home.. on the computer. I don t drink or smoke . ... I am just tired of being dizzy all the time.. I don t feel myself at all and havent been for 8 moths. I do, however have alot of stress in my life as well. any help ? A doctor answered: HI. I AM Chat Doctor. I WOULD LIKE TO HELP. THE WAY TO EXCLUDE ANY MAJOR UNDERLYING MEDICAL PROBLEM IS TO VISIT YOUR FAMILY PHYSICIAN WHO CAN GIVE YOU A PROPER PHYSICAL EXAMINATION AND RUN A FEW BASIC TESTS TO EXCLUDE ANEMIA, DIABETES ETC. A AUDIOLOGICAL EVALUATION IS ALSO NECESSARY IN YOUR CASE. IF YOUR JOB IS A SEDENTARY TYPE YOU MUST ALSO RULE OUT CERVICAL SPONDYLITIS. A LITTLE MORE EXERCISE CAN ALSO HELP BOOST YOUR \"HAPPY HORMONES\" AND HELP YOU FEEL BETTER. A VISIT TO A QUALIFIED CLINICAL PSYCHOLOGIST CAN HELP YOU DEAL WITH YOUR PANIC ATTACKS AND STRESSORS. SINCE IT HAS BEEN 8 MONTHS IT IS NOT ADVISABLE TO IGNORE YOUR SYMPTOMS ANYMORE. TAKE CARE BYE\n",
      "\n",
      "\n",
      "A patient asked: Recently I have had two really strange turns. The first time I was watching TV and the whole world seemed to tip backwards briefly. It happened again tonight as I picked my son up from after school club. I was stood chatting to the supervisor. I rang my doctor and there are no appointments available for 2 and a half weeks. I have to ring back in the morning. In the meantime, I feel quite anxious. A doctor answered: Hi, you need to be evaluated for what you are going through. I would like to suggest you do a few simple vestibular exercises which should help you. meanwhile fix an appointment with your GP.\n",
      "\n",
      "\n"
     ]
    }
   ],
   "source": [
    "for doc in result[\"documents\"]:\n",
    "    print(f\"{doc.content}\\n\\n\")"
   ]
  }
 ],
 "metadata": {
  "kernelspec": {
   "display_name": "Python 3",
   "language": "python",
   "name": "python3"
  },
  "language_info": {
   "codemirror_mode": {
    "name": "ipython",
    "version": 3
   },
   "file_extension": ".py",
   "mimetype": "text/x-python",
   "name": "python",
   "nbconvert_exporter": "python",
   "pygments_lexer": "ipython3",
   "version": "3.8.10"
  }
 },
 "nbformat": 4,
 "nbformat_minor": 5
}
