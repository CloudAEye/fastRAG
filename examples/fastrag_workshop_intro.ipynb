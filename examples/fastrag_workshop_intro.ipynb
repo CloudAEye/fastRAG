{
 "cells": [
  {
   "cell_type": "markdown",
   "metadata": {},
   "source": [
    "# fastRAG Overview"
   ]
  },
  {
   "cell_type": "markdown",
   "metadata": {},
   "source": [
    "## Lexical Search"
   ]
  },
  {
   "cell_type": "code",
   "execution_count": 1,
   "metadata": {},
   "outputs": [
    {
     "name": "stderr",
     "output_type": "stream",
     "text": [
      "/Users/pizsak/miniconda3/envs/fastrag-demo/lib/python3.10/site-packages/tqdm/auto.py:21: TqdmWarning: IProgress not found. Please update jupyter and ipywidgets. See https://ipywidgets.readthedocs.io/en/stable/user_install.html\n",
      "  from .autonotebook import tqdm as notebook_tqdm\n"
     ]
    }
   ],
   "source": [
    "from haystack.document_stores import InMemoryDocumentStore\n",
    "\n",
    "document_store = InMemoryDocumentStore(use_gpu=False, use_bm25=True)"
   ]
  },
  {
   "cell_type": "code",
   "execution_count": 3,
   "metadata": {},
   "outputs": [],
   "source": [
    "from haystack.nodes import BM25Retriever\n",
    "\n",
    "retriever = BM25Retriever(document_store=document_store)"
   ]
  },
  {
   "cell_type": "code",
   "execution_count": 2,
   "metadata": {},
   "outputs": [
    {
     "name": "stderr",
     "output_type": "stream",
     "text": [
      "Updating BM25 representation...: 100%|██████████| 3/3 [00:00<00:00, 16152.65 docs/s]\n"
     ]
    }
   ],
   "source": [
    "from haystack.schema import Document\n",
    "\n",
    "# 3 example documents to index\n",
    "examples = [\n",
    "    \"Python is an interpreted, high-level, general-purpose programming language. Created by Guido van Rossum and first released in 1991, Python's design philosophy emphasizes code readability with its notable use of significant whitespace.\",\n",
    "    \"Princess Arya Stark is the third child and second daughter of Lord Eddard Stark and his wife, Lady Catelyn Stark. She is the sister of the incumbent Westerosi monarchs, Sansa, Queen in the North, and Brandon, King of the Andals and the First Men. After narrowly escaping the persecution of House Stark by House Lannister, Arya is trained as a Faceless Man at the House of Black and White in Braavos, using her abilities to avenge her family. Upon her return to Westeros, she exacts retribution for the Red Wedding by exterminating the Frey male line.\",\n",
    "    \"Dry Cleaning are an English post-punk band who formed in South London in 2018.[3] The band is composed of vocalist Florence Shaw, guitarist Tom Dowse, bassist Lewis Maynard and drummer Nick Buxton. They are noted for their use of spoken word primarily in lieu of sung vocals, as well as their unconventional lyrics. Their musical stylings have been compared to Wire, Magazine and Joy Division.[4] The band released their debut single, 'Magic of Meghan' in 2019. Shaw wrote the song after going through a break-up and moving out of her former partner's apartment the same day that Meghan Markle and Prince Harry announced they were engaged.[5] This was followed by the release of two EPs that year: Sweet Princess in August and Boundary Road Snacks and Drinks in October. The band were included as part of the NME 100 of 2020,[6] as well as DIY magazine's Class of 2020.[7] The band signed to 4AD in late 2020 and shared a new single, 'Scratchcard Lanyard'.[8] In February 2021, the band shared details of their debut studio album, New Long Leg. They also shared the single 'Strong Feelings'.[9] The album, which was produced by John Parish, was released on 2 April 2021.[10]\"\n",
    "]\n",
    "# examples = [\n",
    "#     \"There is a blue house on Oxford street\",\n",
    "#     \"Paris is the capital of France\",\n",
    "#     \"fastRAG had its first commit in 2022\"\n",
    "# ]\n",
    "\n",
    "documents = []\n",
    "for i, d in enumerate(examples):\n",
    "    documents.append(Document(content=d, id=i))\n",
    "\n",
    "document_store.write_documents(documents)"
   ]
  },
  {
   "cell_type": "code",
   "execution_count": 10,
   "metadata": {},
   "outputs": [
    {
     "data": {
      "text/plain": [
       "['Princess Arya Stark is the third child and second daughter of Lord Eddard Stark and his wife, Lady Catelyn Stark. She is the sister of the incumbent Westerosi monarchs, Sansa, Queen in the North, and Brandon, King of the Andals and the First Men. After narrowly escaping the persecution of House Stark by House Lannister, Arya is trained as a Faceless Man at the House of Black and White in Braavos, using her abilities to avenge her family. Upon her return to Westeros, she exacts retribution for the Red Wedding by exterminating the Frey male line.',\n",
       " \"Dry Cleaning are an English post-punk band who formed in South London in 2018.[3] The band is composed of vocalist Florence Shaw, guitarist Tom Dowse, bassist Lewis Maynard and drummer Nick Buxton. They are noted for their use of spoken word primarily in lieu of sung vocals, as well as their unconventional lyrics. Their musical stylings have been compared to Wire, Magazine and Joy Division.[4] The band released their debut single, 'Magic of Meghan' in 2019. Shaw wrote the song after going through a break-up and moving out of her former partner's apartment the same day that Meghan Markle and Prince Harry announced they were engaged.[5] This was followed by the release of two EPs that year: Sweet Princess in August and Boundary Road Snacks and Drinks in October. The band were included as part of the NME 100 of 2020,[6] as well as DIY magazine's Class of 2020.[7] The band signed to 4AD in late 2020 and shared a new single, 'Scratchcard Lanyard'.[8] In February 2021, the band shared details of their debut studio album, New Long Leg. They also shared the single 'Strong Feelings'.[9] The album, which was produced by John Parish, was released on 2 April 2021.[10]\",\n",
       " \"Python is an interpreted, high-level, general-purpose programming language. Created by Guido van Rossum and first released in 1991, Python's design philosophy emphasizes code readability with its notable use of significant whitespace.\"]"
      ]
     },
     "execution_count": 10,
     "metadata": {},
     "output_type": "execute_result"
    }
   ],
   "source": [
    "res = retriever.retrieve(\"Who is the father of Arya Stark?\")\n",
    "[doc.content for doc in res]"
   ]
  },
  {
   "cell_type": "markdown",
   "metadata": {},
   "source": [
    "## Enhancing the Pipeline with Re-ranker and Reader"
   ]
  },
  {
   "cell_type": "markdown",
   "metadata": {},
   "source": [
    "We can add a SOTA ranker [ColBERT](https://github.com/IntelLabs/fastRAG/blob/main/models.md#colbert-v2-with-plaid-engine) to do token-wise max-similarity, and [FiD](https://github.com/IntelLabs/fastRAG/blob/main/models.md#colbert-v2-with-plaid-engine) reader that processes all documents in parallel and generates an answer."
   ]
  },
  {
   "cell_type": "code",
   "execution_count": 5,
   "metadata": {},
   "outputs": [
    {
     "name": "stderr",
     "output_type": "stream",
     "text": [
      "[07/17/2023 09:03:23] {utils.py:130} INFO - Using devices: CPU - Number of GPUs: 0\n"
     ]
    },
    {
     "name": "stdout",
     "output_type": "stream",
     "text": [
      "WARNING: faiss must be imported for indexing\n"
     ]
    },
    {
     "name": "stderr",
     "output_type": "stream",
     "text": [
      "/Users/pizsak/miniconda3/envs/fastrag-demo/lib/python3.10/site-packages/torch/_utils.py:776: UserWarning: TypedStorage is deprecated. It will be removed in the future and UntypedStorage will be the only storage class. This should only matter to you if you are using storages directly.  To access UntypedStorage directly, use tensor.untyped_storage() instead of tensor.storage()\n",
      "  return self.fget.__get__(instance, owner)()\n"
     ]
    },
    {
     "name": "stdout",
     "output_type": "stream",
     "text": [
      "[Jul 17, 09:03:25] Loading segmented_maxsim_cpp extension (set COLBERT_LOAD_TORCH_EXTENSION_VERBOSE=True for more info)...\n"
     ]
    },
    {
     "name": "stderr",
     "output_type": "stream",
     "text": [
      "/Users/pizsak/miniconda3/envs/fastrag-demo/lib/python3.10/site-packages/torch/cuda/amp/grad_scaler.py:120: UserWarning: torch.cuda.amp.GradScaler is enabled, but CUDA is not available.  Disabling.\n",
      "  warnings.warn(\"torch.cuda.amp.GradScaler is enabled, but CUDA is not available.  Disabling.\")\n",
      "[07/17/2023 09:03:28] {utils.py:130} INFO - Using devices: CPU - Number of GPUs: 0\n",
      "[07/17/2023 09:03:28] {FiD.py:108} INFO - tokenizer max length is:256\n",
      "/Users/pizsak/miniconda3/envs/fastrag-demo/lib/python3.10/site-packages/transformers/models/t5/tokenization_t5_fast.py:155: FutureWarning: This tokenizer was incorrectly instantiated with a model max length of 512 which will be corrected in Transformers v5.\n",
      "For now, this behavior is kept to avoid breaking backwards compatibility when padding/encoding with `truncation is True`.\n",
      "- Be aware that you SHOULD NOT rely on t5-base automatically truncating your input to 512 when padding/encoding.\n",
      "- If you want to encode/pad to sequences longer than 512 you can either instantiate this tokenizer with `model_max_length` or pass `max_length` when encoding/padding.\n",
      "- To avoid this warning, please instantiate this tokenizer with `model_max_length` set to your preferred value.\n",
      "  warnings.warn(\n"
     ]
    }
   ],
   "source": [
    "from fastrag.readers import FiDReader\n",
    "from fastrag.rankers import ColBERTRanker\n",
    "\n",
    "retriever = BM25Retriever(document_store=document_store)\n",
    "reranker = ColBERTRanker(checkpoint_path=\"Intel/ColBERT-NQ\")\n",
    "reader = FiDReader(model_name_or_path=\"Intel/fid_flan_t5_base_nq\", num_beams=1, min_length=2, max_length=50, use_gpu=False)"
   ]
  },
  {
   "cell_type": "markdown",
   "metadata": {},
   "source": [
    "### Defining a Pipeline"
   ]
  },
  {
   "cell_type": "code",
   "execution_count": 6,
   "metadata": {},
   "outputs": [
    {
     "data": {
      "text/plain": [
       "({'components': [{'name': 'InMemoryDocumentStore',\n",
       "    'type': 'InMemoryDocumentStore',\n",
       "    'params': {'use_gpu': False, 'use_bm25': True}},\n",
       "   {'name': 'Retriever',\n",
       "    'type': 'BM25Retriever',\n",
       "    'params': {'document_store': 'InMemoryDocumentStore'}},\n",
       "   {'name': 'Reranker',\n",
       "    'type': 'ColBERTRanker',\n",
       "    'params': {'checkpoint_path': 'Intel/ColBERT-NQ'}},\n",
       "   {'name': 'Reader',\n",
       "    'type': 'FiDReader',\n",
       "    'params': {'model_name_or_path': 'Intel/fid_flan_t5_base_nq',\n",
       "     'min_length': 2,\n",
       "     'max_length': 50,\n",
       "     'use_gpu': False}}],\n",
       "  'pipelines': [{'name': 'query',\n",
       "    'nodes': [{'name': 'Retriever', 'inputs': ['Query']},\n",
       "     {'name': 'Reranker', 'inputs': ['Retriever']},\n",
       "     {'name': 'Reader', 'inputs': ['Reranker']}]}],\n",
       "  'version': '1.17.2'},\n",
       " None)"
      ]
     },
     "execution_count": 6,
     "metadata": {},
     "output_type": "execute_result"
    }
   ],
   "source": [
    "from haystack import Pipeline\n",
    "\n",
    "p = Pipeline()\n",
    "p.add_node(component=retriever, name=\"Retriever\", inputs=[\"Query\"])\n",
    "p.add_node(component=reranker, name=\"Reranker\", inputs=[\"Retriever\"])\n",
    "p.add_node(component=reader, name=\"Reader\", inputs=[\"Reranker\"])\n",
    "p.save_to_yaml('my_new_pipeline.yaml')\n",
    "p.get_config()\n",
    "# p = p.load_from_yaml('my_new_pipeline.yaml')"
   ]
  },
  {
   "cell_type": "markdown",
   "metadata": {},
   "source": [
    "Run queries using the pipeline:"
   ]
  },
  {
   "cell_type": "code",
   "execution_count": 11,
   "metadata": {},
   "outputs": [
    {
     "name": "stderr",
     "output_type": "stream",
     "text": [
      "[07/17/2023 09:30:23] {FiD.py:116} INFO - Warning!!! You set 256 as max len for the tokenizer, which is smaller than model_max_length 512.\n"
     ]
    },
    {
     "name": "stdout",
     "output_type": "stream",
     "text": [
      "Gudo van Rossum\n"
     ]
    },
    {
     "name": "stderr",
     "output_type": "stream",
     "text": [
      "[07/17/2023 09:30:24] {FiD.py:116} INFO - Warning!!! You set 256 as max len for the tokenizer, which is smaller than model_max_length 512.\n"
     ]
    },
    {
     "name": "stdout",
     "output_type": "stream",
     "text": [
      "Eddard Stark\n"
     ]
    }
   ],
   "source": [
    "res = p.run(query=\"Who created Python?\")\n",
    "print(res['answers'][0].answer)\n",
    "res = p.run(query=\"Who is the father of Arya Stark??\")\n",
    "print(res['answers'][0].answer)"
   ]
  },
  {
   "cell_type": "markdown",
   "metadata": {},
   "source": [
    "# Semantic Search using Qdrant Vector Store\n",
    "\n",
    "This is an example of using the [Qdrant](https://qdrant.tech/) vector store with fastRAG. This is done using the dependency `qdrant_haystack` and `qdrant_client` python connector. We assume you have a running server, e.g. by calling `docker run -p 6333:6333 qdrant/qdrant` locally. \n",
    "\n",
    "Two important settings are the dimension of the vectors and HNSW parameters. Qdrant uses HNSW index for faster search, with a tradeoff between accuracy and latency. In general, higher numbers mean better accuracy, lower latency and larger RAM usage. \n",
    "\n",
    "The parameters are specified when connecting the server and creating a new index; these cannot be changed after the index was created. "
   ]
  },
  {
   "cell_type": "code",
   "execution_count": 12,
   "metadata": {
    "tags": []
   },
   "outputs": [],
   "source": [
    "from fastrag.stores import QdrantDocumentStore\n",
    "import numpy as np"
   ]
  },
  {
   "cell_type": "code",
   "execution_count": 13,
   "metadata": {
    "tags": []
   },
   "outputs": [],
   "source": [
    "dim = 384\n",
    "index_name = \"fastrag_demo_index\""
   ]
  },
  {
   "cell_type": "markdown",
   "metadata": {},
   "source": [
    "## Creating a Qdrant Index\n",
    "\n",
    "Need to specify the location of the Qdrant service, vector dimension, index name, similarity metric and optionally the HNSW configuration. "
   ]
  },
  {
   "cell_type": "code",
   "execution_count": 45,
   "metadata": {
    "tags": []
   },
   "outputs": [],
   "source": [
    "q = QdrantDocumentStore(\":memory:\",\n",
    "                        embedding_dim=dim,\n",
    "                        timeout=60,\n",
    "                        index=index_name,\n",
    "                        embedding_field=\"embedding\",\n",
    "                        hnsw_config={\"m\": 128, \"ef_construct\": 100},\n",
    "                        similarity='dot_product',\n",
    "                        recreate_index=True)"
   ]
  },
  {
   "cell_type": "markdown",
   "metadata": {},
   "source": [
    "## Insertion and Searching of Documents\n",
    "\n",
    "We'll create a few documents; they must have an `id`, `content` and `embedding` keys but could contain more data such as text titles. "
   ]
  },
  {
   "cell_type": "code",
   "execution_count": 46,
   "metadata": {
    "tags": []
   },
   "outputs": [],
   "source": [
    "# docs = [{\"id\": 1, \"content\": \"I like to go to the beach\", \"embedding\": np.ones(dim)},\n",
    "#         {\"id\": 2, \"content\": \"Where is my hat?\", \"embedding\": np.ones(dim) * 2},\n",
    "#         {\"id\": 3, \"content\": \"GPT4 is very nice\", \"embedding\": np.ones(dim) * 3},]\n",
    "docs = [{\"id\": 1, \"content\": examples[0], \"embedding\": np.ones(dim)},\n",
    "        {\"id\": 2, \"content\": examples[1], \"embedding\": np.ones(dim) * 2},\n",
    "        {\"id\": 3, \"content\": examples[2], \"embedding\": np.ones(dim) * 3},]"
   ]
  },
  {
   "cell_type": "markdown",
   "metadata": {},
   "source": [
    "Writing the documents to index with batching; deduplication of documents is on by default. "
   ]
  },
  {
   "cell_type": "code",
   "execution_count": 47,
   "metadata": {
    "tags": []
   },
   "outputs": [
    {
     "name": "stderr",
     "output_type": "stream",
     "text": [
      "500it [00:00, 127030.83it/s]         \n"
     ]
    }
   ],
   "source": [
    "q.write_documents(docs, index_name, batch_size=500)"
   ]
  },
  {
   "cell_type": "code",
   "execution_count": 48,
   "metadata": {
    "tags": []
   },
   "outputs": [
    {
     "data": {
      "text/plain": [
       "3"
      ]
     },
     "execution_count": 48,
     "metadata": {},
     "output_type": "execute_result"
    }
   ],
   "source": [
    "q.get_document_count(index=index_name)"
   ]
  },
  {
   "cell_type": "markdown",
   "metadata": {},
   "source": [
    "## Query by embedding\n",
    "Need to provide a vector and `top_k` value. In general can also query by text search which we won't show here. "
   ]
  },
  {
   "cell_type": "code",
   "execution_count": 38,
   "metadata": {
    "tags": []
   },
   "outputs": [
    {
     "data": {
      "text/plain": [
       "[<Document: {'content': \"Dry Cleaning are an English post-punk band who formed in South London in 2018.[3] The band is composed of vocalist Florence Shaw, guitarist Tom Dowse, bassist Lewis Maynard and drummer Nick Buxton. They are noted for their use of spoken word primarily in lieu of sung vocals, as well as their unconventional lyrics. Their musical stylings have been compared to Wire, Magazine and Joy Division.[4] The band released their debut single, 'Magic of Meghan' in 2019. Shaw wrote the song after going through a break-up and moving out of her former partner's apartment the same day that Meghan Markle and Prince Harry announced they were engaged.[5] This was followed by the release of two EPs that year: Sweet Princess in August and Boundary Road Snacks and Drinks in October. The band were included as part of the NME 100 of 2020,[6] as well as DIY magazine's Class of 2020.[7] The band signed to 4AD in late 2020 and shared a new single, 'Scratchcard Lanyard'.[8] In February 2021, the band shared details of their debut studio album, New Long Leg. They also shared the single 'Strong Feelings'.[9] The album, which was produced by John Parish, was released on 2 April 2021.[10]\", 'content_type': 'text', 'score': 0.9999900705942881, 'meta': {}, 'id_hash_keys': ['content'], 'embedding': '<embedding of shape (384,)>', 'id': '3'}>]"
      ]
     },
     "execution_count": 38,
     "metadata": {},
     "output_type": "execute_result"
    }
   ],
   "source": [
    "q.query_by_embedding(np.ones(dim), top_k=1, index=index_name)"
   ]
  },
  {
   "cell_type": "markdown",
   "metadata": {},
   "source": [
    "## Adding an Embedder"
   ]
  },
  {
   "cell_type": "code",
   "execution_count": 39,
   "metadata": {},
   "outputs": [
    {
     "name": "stderr",
     "output_type": "stream",
     "text": [
      "[07/17/2023 09:37:45] {utils.py:130} INFO - Using devices: CPU - Number of GPUs: 0\n",
      "[07/17/2023 09:37:46] {dense.py:1552} INFO - Init retriever using embeddings of model cross-encoder/ms-marco-MiniLM-L-12-v2\n",
      "[07/17/2023 09:37:46] {utils.py:130} INFO - Using devices: CPU - Number of GPUs: 0\n",
      "[07/17/2023 09:37:46] {language_model.py:900} INFO -  * LOADING MODEL: 'cross-encoder/ms-marco-MiniLM-L-12-v2' (Bert)\n",
      "[07/17/2023 09:37:46] {language_model.py:977} INFO - Auto-detected model language: english\n",
      "[07/17/2023 09:37:46] {language_model.py:913} INFO - Loaded 'cross-encoder/ms-marco-MiniLM-L-12-v2' (Bert model) from model hub.\n",
      "[07/17/2023 09:37:46] {processor.py:1880} INFO - Initialized processor without tasks. Supply `metric` and `label_list` to the constructor for using the default task or add a custom task later via processor.add_task()\n",
      "[07/17/2023 09:37:46] {utils.py:130} INFO - Using devices: CPU - Number of GPUs: 0\n"
     ]
    }
   ],
   "source": [
    "from haystack.nodes import EmbeddingRetriever\n",
    "\n",
    "embedder = EmbeddingRetriever(embedding_model=\"cross-encoder/ms-marco-MiniLM-L-12-v2\", document_store=q)"
   ]
  },
  {
   "cell_type": "markdown",
   "metadata": {},
   "source": [
    "### Embed all the documents in the index with the Dense Model"
   ]
  },
  {
   "cell_type": "code",
   "execution_count": 49,
   "metadata": {},
   "outputs": [
    {
     "name": "stderr",
     "output_type": "stream",
     "text": [
      "[07/17/2023 09:38:40] {qdrant.py:358} INFO - Updating embeddings for 3 docs...\n",
      "Inferencing Samples: 100%|██████████| 1/1 [00:00<00:00,  2.44 Batches/s]\n",
      "Updating embeddings: 32 Docs [00:00, 76.43 Docs/s]           \n"
     ]
    }
   ],
   "source": [
    "q.update_embeddings(embedder)"
   ]
  },
  {
   "cell_type": "code",
   "execution_count": 54,
   "metadata": {},
   "outputs": [
    {
     "name": "stderr",
     "output_type": "stream",
     "text": [
      "Inferencing Samples: 100%|██████████| 1/1 [00:00<00:00,  7.56 Batches/s]\n"
     ]
    },
    {
     "data": {
      "text/plain": [
       "[<Document: {'content': \"Dry Cleaning are an English post-punk band who formed in South London in 2018.[3] The band is composed of vocalist Florence Shaw, guitarist Tom Dowse, bassist Lewis Maynard and drummer Nick Buxton. They are noted for their use of spoken word primarily in lieu of sung vocals, as well as their unconventional lyrics. Their musical stylings have been compared to Wire, Magazine and Joy Division.[4] The band released their debut single, 'Magic of Meghan' in 2019. Shaw wrote the song after going through a break-up and moving out of her former partner's apartment the same day that Meghan Markle and Prince Harry announced they were engaged.[5] This was followed by the release of two EPs that year: Sweet Princess in August and Boundary Road Snacks and Drinks in October. The band were included as part of the NME 100 of 2020,[6] as well as DIY magazine's Class of 2020.[7] The band signed to 4AD in late 2020 and shared a new single, 'Scratchcard Lanyard'.[8] In February 2021, the band shared details of their debut studio album, New Long Leg. They also shared the single 'Strong Feelings'.[9] The album, which was produced by John Parish, was released on 2 April 2021.[10]\", 'content_type': 'text', 'score': 0.6554189591634477, 'meta': {}, 'id_hash_keys': ['content'], 'embedding': '<embedding of shape (384,)>', 'id': '3'}>,\n",
       " <Document: {'content': \"Python is an interpreted, high-level, general-purpose programming language. Created by Guido van Rossum and first released in 1991, Python's design philosophy emphasizes code readability with its notable use of significant whitespace.\", 'content_type': 'text', 'score': 0.5617126461547147, 'meta': {}, 'id_hash_keys': ['content'], 'embedding': '<embedding of shape (384,)>', 'id': '1'}>,\n",
       " <Document: {'content': 'Princess Arya Stark is the third child and second daughter of Lord Eddard Stark and his wife, Lady Catelyn Stark. She is the sister of the incumbent Westerosi monarchs, Sansa, Queen in the North, and Brandon, King of the Andals and the First Men. After narrowly escaping the persecution of House Stark by House Lannister, Arya is trained as a Faceless Man at the House of Black and White in Braavos, using her abilities to avenge her family. Upon her return to Westeros, she exacts retribution for the Red Wedding by exterminating the Frey male line.', 'content_type': 'text', 'score': 0.5490175082738039, 'meta': {}, 'id_hash_keys': ['content'], 'embedding': '<embedding of shape (384,)>', 'id': '2'}>]"
      ]
     },
     "execution_count": 54,
     "metadata": {},
     "output_type": "execute_result"
    }
   ],
   "source": [
    "embedder.retrieve(\"Band from England?\")"
   ]
  },
  {
   "cell_type": "markdown",
   "metadata": {},
   "source": [
    "### Define a pipeline"
   ]
  },
  {
   "cell_type": "markdown",
   "metadata": {},
   "source": [
    "from haystack import Pipeline\n",
    "\n",
    "p = Pipeline()"
   ]
  },
  {
   "cell_type": "code",
   "execution_count": 53,
   "metadata": {},
   "outputs": [
    {
     "name": "stderr",
     "output_type": "stream",
     "text": [
      "Inferencing Samples: 100%|██████████| 1/1 [00:00<00:00,  7.03 Batches/s]\n"
     ]
    },
    {
     "data": {
      "text/plain": [
       "{'documents': [<Document: {'content': \"Dry Cleaning are an English post-punk band who formed in South London in 2018.[3] The band is composed of vocalist Florence Shaw, guitarist Tom Dowse, bassist Lewis Maynard and drummer Nick Buxton. They are noted for their use of spoken word primarily in lieu of sung vocals, as well as their unconventional lyrics. Their musical stylings have been compared to Wire, Magazine and Joy Division.[4] The band released their debut single, 'Magic of Meghan' in 2019. Shaw wrote the song after going through a break-up and moving out of her former partner's apartment the same day that Meghan Markle and Prince Harry announced they were engaged.[5] This was followed by the release of two EPs that year: Sweet Princess in August and Boundary Road Snacks and Drinks in October. The band were included as part of the NME 100 of 2020,[6] as well as DIY magazine's Class of 2020.[7] The band signed to 4AD in late 2020 and shared a new single, 'Scratchcard Lanyard'.[8] In February 2021, the band shared details of their debut studio album, New Long Leg. They also shared the single 'Strong Feelings'.[9] The album, which was produced by John Parish, was released on 2 April 2021.[10]\", 'content_type': 'text', 'score': 0.6554189591634477, 'meta': {}, 'id_hash_keys': ['content'], 'embedding': '<embedding of shape (384,)>', 'id': '3'}>,\n",
       "  <Document: {'content': \"Python is an interpreted, high-level, general-purpose programming language. Created by Guido van Rossum and first released in 1991, Python's design philosophy emphasizes code readability with its notable use of significant whitespace.\", 'content_type': 'text', 'score': 0.5617126461547147, 'meta': {}, 'id_hash_keys': ['content'], 'embedding': '<embedding of shape (384,)>', 'id': '1'}>,\n",
       "  <Document: {'content': 'Princess Arya Stark is the third child and second daughter of Lord Eddard Stark and his wife, Lady Catelyn Stark. She is the sister of the incumbent Westerosi monarchs, Sansa, Queen in the North, and Brandon, King of the Andals and the First Men. After narrowly escaping the persecution of House Stark by House Lannister, Arya is trained as a Faceless Man at the House of Black and White in Braavos, using her abilities to avenge her family. Upon her return to Westeros, she exacts retribution for the Red Wedding by exterminating the Frey male line.', 'content_type': 'text', 'score': 0.5490175082738039, 'meta': {}, 'id_hash_keys': ['content'], 'embedding': '<embedding of shape (384,)>', 'id': '2'}>],\n",
       " 'root_node': 'Query',\n",
       " 'params': {},\n",
       " 'query': 'Band from England?',\n",
       " 'node_id': 'Retriever',\n",
       " 'timings': {'EmbeddingRetriever': (3, 0.14492162498936523)}}"
      ]
     },
     "execution_count": 53,
     "metadata": {},
     "output_type": "execute_result"
    }
   ],
   "source": [
    "from haystack import Pipeline\n",
    "\n",
    "p = Pipeline()\n",
    "p.add_node(component=embedder, name=\"Retriever\", inputs=[\"Query\"])\n",
    "\n",
    "p.run(\"Band from England?\")"
   ]
  },
  {
   "cell_type": "markdown",
   "metadata": {},
   "source": [
    "## Adding a LLM"
   ]
  },
  {
   "cell_type": "markdown",
   "metadata": {},
   "source": [
    "### Define a Prompt Template"
   ]
  },
  {
   "cell_type": "code",
   "execution_count": 55,
   "metadata": {},
   "outputs": [],
   "source": [
    "import torch\n",
    "from haystack.nodes import  PromptNode, PromptTemplate\n",
    "prompt_template = PromptTemplate(name=\"qa\",\n",
    "                             prompt_text=\"Answer the question using the provided context. Your answer should be in your own words and be no longer than 2 or 3 sentences.\\n\\n### Instruction:\\n {query}\\n\\n### Input:\\n{join(documents)}\\n\\n### Response:\",\n",
    "                             output_parser={\"type\": \"AnswerParser\"}) \n"
   ]
  },
  {
   "cell_type": "markdown",
   "metadata": {},
   "source": [
    "### Load a LLM and attach the prompt template"
   ]
  },
  {
   "cell_type": "code",
   "execution_count": 56,
   "metadata": {},
   "outputs": [
    {
     "name": "stderr",
     "output_type": "stream",
     "text": [
      "[07/17/2023 09:39:23] {utils.py:130} INFO - Using devices: CPU - Number of GPUs: 0\n",
      "[07/17/2023 09:39:23] {hugging_face.py:130} INFO - Using model input kwargs {'torch_dtype': torch.bfloat16} in HFLocalInvocationLayer\n"
     ]
    }
   ],
   "source": [
    "prompt = PromptNode(model_name_or_path=\"MBZUAI/LaMini-Flan-T5-783M\", default_prompt_template=prompt_template,\n",
    "                    model_kwargs={\"model_max_length\": 2048, \"torch_dtype\": torch.bfloat16}, use_gpu=False)"
   ]
  },
  {
   "cell_type": "markdown",
   "metadata": {},
   "source": [
    "Additional implementations of LLM can be defined by other `InvocationLayer` implementations.\n",
    "\n",
    "See: https://github.com/deepset-ai/haystack/tree/v1.17.2/haystack/nodes/prompt/invocation_layer"
   ]
  },
  {
   "cell_type": "code",
   "execution_count": 57,
   "metadata": {},
   "outputs": [],
   "source": [
    "from haystack import Pipeline\n",
    "p = Pipeline()\n",
    "p.add_node(component=embedder, name=\"Retriever\", inputs=[\"Query\"])\n",
    "p.add_node(component=prompt, name=\"prompt_node\", inputs=[\"Retriever\"])"
   ]
  },
  {
   "cell_type": "code",
   "execution_count": 61,
   "metadata": {},
   "outputs": [
    {
     "name": "stderr",
     "output_type": "stream",
     "text": [
      "Inferencing Samples: 100%|██████████| 1/1 [00:00<00:00,  5.80 Batches/s]\n",
      "Both `max_new_tokens` (=50) and `max_length`(=100) seem to have been set. `max_new_tokens` will take precedence. Please refer to the documentation for more information. (https://huggingface.co/docs/transformers/main/en/main_classes/text_generation)\n"
     ]
    }
   ],
   "source": [
    "res = p.run(\"Band from England?\", params={\"Retriever\": {\"top_k\": 1}, \"prompt_node\": {\"generation_kwargs\": {\"max_new_tokens\": 50, \"do_sample\": True}}})"
   ]
  },
  {
   "cell_type": "code",
   "execution_count": 62,
   "metadata": {},
   "outputs": [
    {
     "name": "stdout",
     "output_type": "stream",
     "text": [
      "Prompt: Answer the question using the provided context. Your answer should be in your own words and be no longer than 2 or 3 sentences.\n",
      "\n",
      "### Instruction:\n",
      " Band from England?\n",
      "\n",
      "### Input:\n",
      "Dry Cleaning are an English post-punk band who formed in South London in 2018.[3] The band is composed of vocalist Florence Shaw, guitarist Tom Dowse, bassist Lewis Maynard and drummer Nick Buxton. They are noted for their use of spoken word primarily in lieu of sung vocals, as well as their unconventional lyrics. Their musical stylings have been compared to Wire, Magazine and Joy Division.[4] The band released their debut single, 'Magic of Meghan' in 2019. Shaw wrote the song after going through a break-up and moving out of her former partner's apartment the same day that Meghan Markle and Prince Harry announced they were engaged.[5] This was followed by the release of two EPs that year: Sweet Princess in August and Boundary Road Snacks and Drinks in October. The band were included as part of the NME 100 of 2020,[6] as well as DIY magazine's Class of 2020.[7] The band signed to 4AD in late 2020 and shared a new single, 'Scratchcard Lanyard'.[8] In February 2021, the band shared details of their debut studio album, New Long Leg. They also shared the single 'Strong Feelings'.[9] The album, which was produced by John Parish, was released on 2 April 2021.[10]\n",
      "\n",
      "### Response:\n",
      "---\n",
      "Answer: Dry Cleaning is an English post-punk band founded in London in 2018. Their songs are known for their unconventional lyrical style, and they are compared to Wire, Magazine, and Joy Division.\n"
     ]
    }
   ],
   "source": [
    "print(\"Prompt: \" + res['answers'][0].meta['prompt'])\n",
    "print(\"---\")\n",
    "print(\"Answer: \" + res['answers'][0].answer)"
   ]
  }
 ],
 "metadata": {
  "kernelspec": {
   "display_name": "fastrag-demo",
   "language": "python",
   "name": "python3"
  },
  "language_info": {
   "codemirror_mode": {
    "name": "ipython",
    "version": 3
   },
   "file_extension": ".py",
   "mimetype": "text/x-python",
   "name": "python",
   "nbconvert_exporter": "python",
   "pygments_lexer": "ipython3",
   "version": "3.10.12"
  }
 },
 "nbformat": 4,
 "nbformat_minor": 4
}
